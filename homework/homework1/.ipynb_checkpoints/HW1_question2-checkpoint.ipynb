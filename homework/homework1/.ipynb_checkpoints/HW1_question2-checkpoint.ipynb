{
 "cells": [
  {
   "cell_type": "code",
   "execution_count": 1,
   "metadata": {},
   "outputs": [],
   "source": [
    "import sys\n",
    "import numpy as np\n",
    "import pandas as pd\n",
    "import scipy\n",
    "import matplotlib.pyplot as plt\n",
    "from PIL import Image\n",
    "import random\n",
    "import statistics"
   ]
  },
  {
   "cell_type": "code",
   "execution_count": 2,
   "metadata": {},
   "outputs": [
    {
     "name": "stdout",
     "output_type": "stream",
     "text": [
      "BMP (400, 400) RGB\n"
     ]
    }
   ],
   "source": [
    "# Providing image path and printing some basic information about the image like size and format\n",
    "\n",
    "path = \"./data/GeorgiaTech.bmp\"\n",
    "#path = \"./data/football.bmp\"\n",
    "#path = \"./data/Nick_portrait.bmp\"\n",
    "img = Image.open(path, 'r')\n",
    "print(img.format, img.size, img.mode)"
   ]
  },
  {
   "cell_type": "code",
   "execution_count": 3,
   "metadata": {},
   "outputs": [
    {
     "name": "stdout",
     "output_type": "stream",
     "text": [
      "(400, 400, 3)\n"
     ]
    }
   ],
   "source": [
    "pixels = np.asarray(img)\n",
    "pixels_shape = pixels.shape\n",
    "print(pixels_shape)"
   ]
  },
  {
   "cell_type": "code",
   "execution_count": 4,
   "metadata": {},
   "outputs": [],
   "source": [
    "# creates pixels array from image\n",
    "\n",
    "pixels = list(img.getdata())\n",
    "pixels = [list(point) for point in pixels]\n",
    "#len(pixels)"
   ]
  },
  {
   "cell_type": "code",
   "execution_count": 5,
   "metadata": {},
   "outputs": [],
   "source": [
    "# Takes a centroid and point (iterable) of arbitrary (equal) dim and returns the p norm dist b/w the two\n",
    "\n",
    "def p_norm(centroid, point, p):\n",
    "    assert len(centroid) == len(point), 'The centroid and data point have different dimensions'\n",
    "    assert p >= 0, 'p needs to be non-negative'\n",
    "    \n",
    "    diff = 0\n",
    "    for c_i, x_i in zip(centroid, point):\n",
    "        diff += abs(c_i - x_i)**p\n",
    "    return diff**(1/p)\n"
   ]
  },
  {
   "cell_type": "code",
   "execution_count": 6,
   "metadata": {},
   "outputs": [],
   "source": [
    "# function to determine cluster membership of pixels\n",
    "\n",
    "def cluster_membership(pixels, centroids):\n",
    "    \n",
    "    cluster_assignments = []\n",
    "    for x_i in pixels:\n",
    "        closest_cluster = 0\n",
    "        squared_norm = sys.maxsize\n",
    "        for i, c_i in enumerate(centroids):\n",
    "            squared_norm_current = p_norm(c_i, x_i, 2)**2\n",
    "            if squared_norm_current < squared_norm: \n",
    "                closest_cluster = i\n",
    "                squared_norm = squared_norm_current\n",
    "                \n",
    "        cluster_assignments.append(closest_cluster)\n",
    "        \n",
    "    return cluster_assignments\n",
    "    "
   ]
  },
  {
   "cell_type": "code",
   "execution_count": 7,
   "metadata": {},
   "outputs": [],
   "source": [
    "# function to recenter cluster centroids\n",
    "\n",
    "def recenter(pixels, cluster_assignments, k, method='mean'):\n",
    "    \n",
    "    assert len(pixels) == len(cluster_assignments), \\\n",
    "    'The number of data points and cluster assignments do not match'\n",
    "    \n",
    "    if method == \"median\": \n",
    "        return median(pixels, cluster_assignments, k)\n",
    "    \n",
    "    dim = len(pixels[0])\n",
    "    centroids = np.array(k*[dim*[0]], dtype='float')\n",
    "    \n",
    "    cluster_counts = k*[0]\n",
    "    \n",
    "    for x_i, c_i in zip(pixels, cluster_assignments):\n",
    "        #print(x_i, c_i)\n",
    "        centroids[c_i] += np.asarray(x_i)\n",
    "        cluster_counts[c_i] += 1\n",
    "    \n",
    "    #print(centroids)\n",
    "    #print(cluster_counts)\n",
    "    for i in range(k):\n",
    "        \n",
    "        if cluster_counts[i] == 0: continue\n",
    "        else: centroids[i] = centroids[i] / cluster_counts[i]\n",
    "        \n",
    "    return centroids.tolist()    "
   ]
  },
  {
   "cell_type": "code",
   "execution_count": 8,
   "metadata": {},
   "outputs": [],
   "source": [
    "# function to compute median cluster center\n",
    "def median(pixels, cluster_assignments, k):\n",
    "    dim = len(pixels[0])\n",
    "    pixels = np.asarray(pixels)\n",
    "    cluster_assignments = np.asarray(cluster_assignments)\n",
    "    \n",
    "    pixels_ci = np.insert(pixels, dim, cluster_assignments, axis=1)\n",
    "    \n",
    "    count = 0\n",
    "    centroid_med = np.zeros((k, dim))\n",
    "    \n",
    "    for i in range(k):\n",
    "        for d in range(dim):\n",
    "            centroid_med[i, d] = np.median(pixels_ci[pixels_ci[:, dim] == i][:, d])\n",
    "            \n",
    "            \n",
    "    return centroid_med.tolist()\n",
    "      "
   ]
  },
  {
   "cell_type": "code",
   "execution_count": 10,
   "metadata": {
    "scrolled": false
   },
   "outputs": [],
   "source": [
    "# arg 'method' can be \"mean\" or \"median\" and is defaulted to \"mean\"\n",
    "# arg pixels is a list of lists with size (num pixels x 3)\n",
    "\n",
    "def kmeans(pixels, k, method='mean'):\n",
    "    # initialize k cluster centers randomly\n",
    "    # cluster centers stored as list of lists\n",
    "    dim = len(pixels[0])\n",
    "    centroids = [random.sample(range(0, 256), dim) for cluster in range(k)]\n",
    "    #print(centroids)\n",
    "    \n",
    "    # determine cluster assignment for each data point\n",
    "    cluster_assignments = cluster_membership(pixels, centroids)\n",
    "    \n",
    "    # adjust the cluster centers using separate function 'recenter()'\n",
    "    centroids_temp = recenter(pixels, cluster_assignments, k, method)\n",
    "    \n",
    "    counter = 1 \n",
    "    while(centroids_temp != centroids and counter < 500): \n",
    "        \n",
    "        # determine cluster assignment for each data point\n",
    "        cluster_assignments = cluster_membership(pixels, centroids_temp)\n",
    "\n",
    "        # adjust the cluster centers using separate function 'recenter()'\n",
    "        centroids_new = recenter(pixels, cluster_assignments, k, method)\n",
    "\n",
    "        centroids = centroids_temp\n",
    "        centroids_temp = centroids_new\n",
    "        \n",
    "        counter += 1\n",
    "        \n",
    "    #print(counter)\n",
    "    #print(centroids)\n",
    "    \n",
    "    # creat new representation of image \n",
    "    new_representation = []\n",
    "    for clas in cluster_assignments:\n",
    "        new_representation.append(centroids[clas])\n",
    "    \n",
    "    new_representation = np.asarray([new_representation])\n",
    "    #print(new_representation)\n",
    "    \n",
    "    img_new = new_representation.reshape(pixels_shape)\n",
    "    plt.figure(figsize=(10, 10))\n",
    "    plt.imshow(img_new / 256)#, cmap='cubehelix')\n",
    "    print(img_new)\n",
    "    \n",
    "    # return centroids and pixel classes \n",
    "    return(np.asarray(centroids), (np.asarray([cluster_assignments])+1).T)\n",
    "    "
   ]
  },
  {
   "cell_type": "code",
   "execution_count": 11,
   "metadata": {},
   "outputs": [
    {
     "name": "stdout",
     "output_type": "stream",
     "text": [
      "[[[172.03466717 161.22584305 153.36686159]\n",
      "  [172.03466717 161.22584305 153.36686159]\n",
      "  [172.03466717 161.22584305 153.36686159]\n",
      "  ...\n",
      "  [172.03466717 161.22584305 153.36686159]\n",
      "  [172.03466717 161.22584305 153.36686159]\n",
      "  [172.03466717 161.22584305 153.36686159]]\n",
      "\n",
      " [[172.03466717 161.22584305 153.36686159]\n",
      "  [172.03466717 161.22584305 153.36686159]\n",
      "  [172.03466717 161.22584305 153.36686159]\n",
      "  ...\n",
      "  [172.03466717 161.22584305 153.36686159]\n",
      "  [172.03466717 161.22584305 153.36686159]\n",
      "  [172.03466717 161.22584305 153.36686159]]\n",
      "\n",
      " [[172.03466717 161.22584305 153.36686159]\n",
      "  [172.03466717 161.22584305 153.36686159]\n",
      "  [172.03466717 161.22584305 153.36686159]\n",
      "  ...\n",
      "  [172.03466717 161.22584305 153.36686159]\n",
      "  [172.03466717 161.22584305 153.36686159]\n",
      "  [172.03466717 161.22584305 153.36686159]]\n",
      "\n",
      " ...\n",
      "\n",
      " [[ 60.27504566  56.21564111  45.89597803]\n",
      "  [ 60.27504566  56.21564111  45.89597803]\n",
      "  [ 60.27504566  56.21564111  45.89597803]\n",
      "  ...\n",
      "  [ 60.27504566  56.21564111  45.89597803]\n",
      "  [ 60.27504566  56.21564111  45.89597803]\n",
      "  [ 60.27504566  56.21564111  45.89597803]]\n",
      "\n",
      " [[ 60.27504566  56.21564111  45.89597803]\n",
      "  [ 60.27504566  56.21564111  45.89597803]\n",
      "  [ 60.27504566  56.21564111  45.89597803]\n",
      "  ...\n",
      "  [ 60.27504566  56.21564111  45.89597803]\n",
      "  [ 60.27504566  56.21564111  45.89597803]\n",
      "  [ 60.27504566  56.21564111  45.89597803]]\n",
      "\n",
      " [[ 60.27504566  56.21564111  45.89597803]\n",
      "  [ 60.27504566  56.21564111  45.89597803]\n",
      "  [ 60.27504566  56.21564111  45.89597803]\n",
      "  ...\n",
      "  [ 60.27504566  56.21564111  45.89597803]\n",
      "  [ 60.27504566  56.21564111  45.89597803]\n",
      "  [ 60.27504566  56.21564111  45.89597803]]]\n"
     ]
    },
    {
     "data": {
      "image/png": "[encoded data removed]",
      "text/plain": [
       "<Figure size 720x720 with 1 Axes>"
      ]
     },
     "metadata": {
      "needs_background": "light"
     },
     "output_type": "display_data"
    }
   ],
   "source": [
    "img_new = kmeans(pixels, 2, method='mean')"
   ]
  },
  {
   "cell_type": "code",
   "execution_count": null,
   "metadata": {},
   "outputs": [],
   "source": []
  }
 ],
 "metadata": {
  "kernelspec": {
   "display_name": "Python 3",
   "language": "python",
   "name": "python3"
  },
  "language_info": {
   "codemirror_mode": {
    "name": "ipython",
    "version": 3
   },
   "file_extension": ".py",
   "mimetype": "text/x-python",
   "name": "python",
   "nbconvert_exporter": "python",
   "pygments_lexer": "ipython3",
   "version": "3.7.4"
  }
 },
 "nbformat": 4,
 "nbformat_minor": 2
}

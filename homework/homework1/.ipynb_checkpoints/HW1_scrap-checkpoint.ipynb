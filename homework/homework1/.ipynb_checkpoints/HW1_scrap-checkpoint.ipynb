{
 "cells": [
  {
   "cell_type": "code",
   "execution_count": null,
   "metadata": {},
   "outputs": [],
   "source": [
    "df = pd.DataFrame(pixels2, columns=['R', 'G', 'B'])\n",
    "df.head()"
   ]
  },
  {
   "cell_type": "code",
   "execution_count": null,
   "metadata": {},
   "outputs": [],
   "source": []
  },
  {
   "cell_type": "code",
   "execution_count": null,
   "metadata": {},
   "outputs": [],
   "source": [
    "# represent the graph as an adjacency matrix \n",
    "\n",
    "A = sparse.coo_matrix((flattened_edges, (i, j)), shape=(n, n))\n",
    "#A = (A + np.transpose(A))/2\n",
    "A = A + A.T\n",
    "A[A > 1] = 1\n",
    "#print(A)\n",
    "A = sparse.csc_matrix.todense(A)\n",
    "#print(A.shape)\n",
    "A = np.asarray(A)\n",
    "A"
   ]
  },
  {
   "cell_type": "code",
   "execution_count": null,
   "metadata": {},
   "outputs": [],
   "source": [
    "# find the degree matrix\n",
    "\n",
    "degrees = np.sum(np.asarray(A), axis=0)\n",
    "D = np.diag(degrees)\n",
    "print(D)"
   ]
  },
  {
   "cell_type": "code",
   "execution_count": null,
   "metadata": {},
   "outputs": [],
   "source": [
    "# calculate the graph Laplacian \n",
    "\n",
    "L = D - A\n",
    "L"
   ]
  }
 ],
 "metadata": {
  "kernelspec": {
   "display_name": "Python 3",
   "language": "python",
   "name": "python3"
  },
  "language_info": {
   "codemirror_mode": {
    "name": "ipython",
    "version": 3
   },
   "file_extension": ".py",
   "mimetype": "text/x-python",
   "name": "python",
   "nbconvert_exporter": "python",
   "pygments_lexer": "ipython3",
   "version": "3.7.4"
  }
 },
 "nbformat": 4,
 "nbformat_minor": 2
}

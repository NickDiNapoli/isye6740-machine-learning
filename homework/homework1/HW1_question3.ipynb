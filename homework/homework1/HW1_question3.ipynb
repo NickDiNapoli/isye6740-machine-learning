{
 "cells": [
  {
   "cell_type": "code",
   "execution_count": null,
   "metadata": {},
   "outputs": [],
   "source": [
    "import sys\n",
    "import numpy as np\n",
    "import pandas as pd\n",
    "import scipy\n",
    "from scipy import sparse\n",
    "import matplotlib.pyplot as plt\n",
    "from sklearn.cluster import KMeans"
   ]
  },
  {
   "cell_type": "code",
   "execution_count": null,
   "metadata": {},
   "outputs": [],
   "source": [
    "# create a list of node names and labels\n",
    "nodes = \"./data/nodes.txt\"\n",
    "\n",
    "node_list = []\n",
    "label_list = [] \n",
    "with open(nodes) as nodes_file:\n",
    "    for line in nodes_file.readlines():\n",
    "        node = line.split(\"\\t\")\n",
    "        node_list.append(node[1].strip('\"'))\n",
    "        label_list.append(node[2])\n",
    "        #print(node)\n",
    "\n",
    "label_list = [int(x) for x in label_list]\n",
    "#print(label_list)"
   ]
  },
  {
   "cell_type": "code",
   "execution_count": null,
   "metadata": {},
   "outputs": [],
   "source": [
    "# create edges array\n",
    "edges = \"./data/edges.txt\"\n",
    "\n",
    "with open(edges) as edges_file:\n",
    "    \n",
    "    edges_list = [line.split() for line in edges_file]\n",
    "    \n",
    "edges_array = np.array(edges_list).astype(int)\n",
    "print(edges_array)\n"
   ]
  },
  {
   "cell_type": "code",
   "execution_count": null,
   "metadata": {},
   "outputs": [],
   "source": [
    "# pre process the data by cropping the list of node names and labels\n",
    "\n",
    "node_idx_list = []\n",
    "for i in edges_array[:, 0]-1:\n",
    "    node_idx_list.append(i)\n",
    "for j in edges_array[:, 1]-1:\n",
    "    node_idx_list.append(j)\n",
    "\n",
    "node_idx_keep = []\n",
    "for idx in range(len(node_list)):\n",
    "    if idx in node_idx_list: node_idx_keep.append(idx)\n",
    "\n",
    "\n",
    "node_list = np.asarray(node_list)\n",
    "node_list = node_list[node_idx_keep]\n",
    "\n",
    "label_list = np.asarray(label_list)\n",
    "label_list = label_list[node_idx_keep]\n",
    "#print(label_list.shape)"
   ]
  },
  {
   "cell_type": "code",
   "execution_count": null,
   "metadata": {},
   "outputs": [],
   "source": [
    "# flatten to make sparse matrix\n",
    "n = 1490\n",
    "k = 20\n",
    "\n",
    "i = edges_array[:, 0]-1\n",
    "#print(i)\n",
    "j = edges_array[:, 1]-1\n",
    "flattened_edges = np.ones((edges_array.shape[0], 1)).flatten()"
   ]
  },
  {
   "cell_type": "code",
   "execution_count": null,
   "metadata": {},
   "outputs": [],
   "source": [
    "# make sparse matrix from flattened edges\n",
    "A = sparse.coo_matrix((flattened_edges, (i, j)), shape=(n, n))\n",
    "\n",
    "# make sym matrix\n",
    "A = (A + np.transpose(A))/2\n",
    "\n",
    "# make dense matrix\n",
    "A = sparse.csc_matrix.todense(A)\n",
    "\n",
    "# keep only the matrix indicies where nodes have edges\n",
    "A = A[:, node_idx_keep][node_idx_keep, :]\n",
    "\n",
    "# create degree matrix \n",
    "D = np.diag(1/np.sqrt(np.sum(A, axis=1)).A1)\n",
    "\n",
    "# symmetric normalized Laplacian\n",
    "L = D @ A @ D\n",
    "L = np.array(L)\n",
    "\n",
    "#print(A.shape, D.shape, L.shape)"
   ]
  },
  {
   "cell_type": "code",
   "execution_count": null,
   "metadata": {},
   "outputs": [],
   "source": [
    "# perform the eigendecomposition\n",
    "\n",
    "eig_vals, eig_vectors = np.linalg.eig(L) \n",
    "# eigenvalues are sorted smallest to largest by index\n",
    "sorted_eig_vals = np.argsort(eig_vals)\n",
    "eig_vectors = np.real(eig_vectors)\n",
    "#print(eig_vectors)\n",
    "\n",
    "# selecting only the k largest eigenvectors\n",
    "eig_vectors = eig_vectors[:, sorted_eig_vals[-k:]]\n",
    "eig_vectors = eig_vectors/np.repeat(np.sqrt(np.sum(eig_vectors*eig_vectors, axis=1).reshape(-1, 1)), k, axis=1)\n",
    "\n",
    "# to visualize eigenvectors\n",
    "plt.scatter(eig_vectors[:, 0], eig_vectors[:, 1])\n",
    "plt.show()"
   ]
  },
  {
   "cell_type": "code",
   "execution_count": null,
   "metadata": {
    "scrolled": false
   },
   "outputs": [],
   "source": [
    "# run k means algo on k eigenvectors, each row is data point\n",
    "# print the Cluster name, total data points, num label=0, num label=1, and the mismatch rate\n",
    "kmeans = KMeans(n_clusters=k).fit(eig_vectors)\n",
    "\n",
    "c_i = kmeans.labels_\n",
    "\n",
    "mismatch_rate_array = np.zeros(k)\n",
    "\n",
    "for i in range(k):\n",
    "    print(f'Cluster{i+1}\\n')\n",
    "    indicies = [index for index, c in enumerate(c_i) if c == i]\n",
    "    \n",
    "    tot = len(indicies)\n",
    "    zero_counts = 0\n",
    "    one_counts = 0\n",
    "    \n",
    "    for idx in indicies:\n",
    "        if label_list[idx] == 0: zero_counts += 1\n",
    "        if label_list[idx] == 1: one_counts += 1\n",
    "        #print(node_list[idx])\n",
    "        \n",
    "    if tot == 0: mismatch_rate = 0\n",
    "    else:\n",
    "        if zero_counts >= one_counts: mismatch_rate = one_counts / tot\n",
    "        if zero_counts < one_counts: mismatch_rate = zero_counts / tot\n",
    "    \n",
    "    mismatch_rate_array[i] = mismatch_rate\n",
    "    print(tot)\n",
    "    print(zero_counts, one_counts)\n",
    "    print(mismatch_rate)\n",
    "    print('\\n')\n",
    "\n",
    "print(f\"Average mismatch rate per cluster = {np.mean(mismatch_rate_array)}\")  "
   ]
  },
  {
   "cell_type": "code",
   "execution_count": null,
   "metadata": {},
   "outputs": [],
   "source": []
  }
 ],
 "metadata": {
  "kernelspec": {
   "display_name": "Python 3",
   "language": "python",
   "name": "python3"
  },
  "language_info": {
   "codemirror_mode": {
    "name": "ipython",
    "version": 3
   },
   "file_extension": ".py",
   "mimetype": "text/x-python",
   "name": "python",
   "nbconvert_exporter": "python",
   "pygments_lexer": "ipython3",
   "version": "3.7.4"
  }
 },
 "nbformat": 4,
 "nbformat_minor": 2
}

{
 "cells": [
  {
   "cell_type": "code",
   "execution_count": 269,
   "metadata": {},
   "outputs": [],
   "source": [
    "import math\n",
    "import numpy as np\n",
    "import scipy.io\n",
    "from scipy.sparse.linalg import eigs\n",
    "import matplotlib.pyplot as plt\n",
    "from scipy.stats import multivariate_normal\n",
    "import seaborn as sb\n",
    "from sklearn.cluster import KMeans"
   ]
  },
  {
   "cell_type": "code",
   "execution_count": 28,
   "metadata": {},
   "outputs": [],
   "source": [
    "path = \"./data/data.mat\"\n",
    "\n",
    "images = sp.io.loadmat(path)\n",
    "images = images['data']\n",
    "images = images.T\n",
    "m, n = images.shape"
   ]
  },
  {
   "cell_type": "code",
   "execution_count": 203,
   "metadata": {
    "scrolled": true
   },
   "outputs": [
    {
     "name": "stdout",
     "output_type": "stream",
     "text": [
      "(784, 784)\n",
      "(784, 4) (784,)\n",
      "(1990, 4)\n"
     ]
    }
   ],
   "source": [
    "# Perform PCA to k dimensions and generate projected data \n",
    "# no need to normalize because all pixel values lie in same range\n",
    "\n",
    "avg = np.mean(images, axis=1)\n",
    "images_cen = images - avg[:,None]\n",
    "\n",
    "k = 4 \n",
    "\n",
    "# compute covarirance matrix \n",
    "C = np.matmul(images_cen.T, images_cen) / m\n",
    "print(C.shape)\n",
    "\n",
    "U,Lambda,_ = np.linalg.svd(C)\n",
    "U = U[:,:k]\n",
    "print(U.shape, Lambda.shape)\n",
    "\n",
    "# generate projected data \n",
    "X = np.dot(images, U)\n",
    "print(X.shape)"
   ]
  },
  {
   "cell_type": "code",
   "execution_count": 296,
   "metadata": {},
   "outputs": [],
   "source": [
    "# EM algorithm \n",
    "\n",
    "# initialize prior\n",
    "K = 2\n",
    "pi = np.random.random(K)\n",
    "# normalize \n",
    "pi = pi/np.sum(pi)\n",
    "\n",
    "# initialize mean\n",
    "mu = np.random.randn(K,k)\n",
    "#print(mu.shape)\n",
    "#mu_old = mu.copy()\n",
    "\n",
    "# initialize covariance matrix \n",
    "S1 = np.random.randn(k,k)\n",
    "S2 = np.random.randn(k,k)\n",
    "\n",
    "sig1 = np.dot(S1, S1.T) + np.identity(k)\n",
    "sig2 = np.dot(S2, S2.T) + np.identity(k)\n",
    "#print(sig1.shape)\n",
    "sigma = [sig1, sig2]\n",
    "\n",
    "# initialize posterior \n",
    "tau = np.full((m, K), fill_value=0.)\n",
    "\n",
    "max_iter = 20\n",
    "tol = 1e-4\n",
    "\n",
    "#iterate until convergence\n",
    "log_like_list = []\n",
    "counter = 0\n",
    "while(counter < max_iter): #and np.linalg.norm(mu - mu_old) < tol):\n",
    "    like_list = []\n",
    "    # E-step\n",
    "    for i in range(K):\n",
    "        #print(X.shape, mu[i].shape, sigma[i].shape)\n",
    "        likelihood = multivariate_normal.pdf(X, mu[i], sigma[i])\n",
    "        like_list.append(likelihood)\n",
    "\n",
    "        tau[:, i] = pi[i] * likelihood\n",
    "    \n",
    "    \n",
    "    # normalize posterior with marginal dist\n",
    "    tau_sum = np.sum(tau, axis=1)\n",
    "    tau_sum.shape = (m, 1) \n",
    "    # add another column copy and divide\n",
    "    tau = np.divide(tau, np.tile(tau_sum, (1, K)))\n",
    "    #print(tau_sum.shape, np.tile(tau_sum, (1, K)).shape)\n",
    "    \n",
    "    # M-step\n",
    "    for j in range(K):\n",
    "        pi[j] = np.sum(tau[:, j])/m\n",
    "        \n",
    "        mu[j] = X.T @ tau[:,j] / np.sum(tau[:,j], axis = 0)\n",
    "        \n",
    "        # mean centered\n",
    "        X_mu = X - np.tile(mu[j], (m, 1)) \n",
    "        sigma[j] = X_mu.T @ np.diag(tau[:,j]) @ X_mu / np.sum(tau[:,j], axis = 0)\n",
    "        \n",
    "    # compute log likelihood \n",
    "    like = np.asarray(like_list).T\n",
    "    like = np.sum(like, axis = 1)\n",
    "    log_like = np.log(like)\n",
    "    log_like = np.sum(log_like, axis = 0)\n",
    "\n",
    "    log_like_list.append(log_like)\n",
    "    \n",
    "    #print(counter)\n",
    "    counter += 1"
   ]
  },
  {
   "cell_type": "code",
   "execution_count": 297,
   "metadata": {},
   "outputs": [
    {
     "data": {
      "text/plain": [
       "Text(0, 0.5, 'log-likelihood')"
      ]
     },
     "execution_count": 297,
     "metadata": {},
     "output_type": "execute_result"
    },
    {
     "data": {
      "image/png": "[encoded data removed]",
      "text/plain": [
       "<Figure size 504x360 with 1 Axes>"
      ]
     },
     "metadata": {
      "needs_background": "light"
     },
     "output_type": "display_data"
    }
   ],
   "source": [
    "# plotting log-likelihood\n",
    "\n",
    "plt.figure(figsize=(7, 5))\n",
    "plt.plot(log_like_list)\n",
    "plt.title(\"EM algorithm convergence\")\n",
    "plt.xlabel(\"Num iterations\")\n",
    "plt.ylabel(\"log-likelihood\")\n"
   ]
  },
  {
   "cell_type": "code",
   "execution_count": 300,
   "metadata": {},
   "outputs": [
    {
     "name": "stdout",
     "output_type": "stream",
     "text": [
      "[0.51234537 0.48765463]\n"
     ]
    },
    {
     "data": {
      "text/plain": [
       "(4.0, 0.0)"
      ]
     },
     "execution_count": 300,
     "metadata": {},
     "output_type": "execute_result"
    },
    {
     "data": {
      "image/png": "[encoded data removed]",
      "text/plain": [
       "<Figure size 720x576 with 2 Axes>"
      ]
     },
     "metadata": {
      "needs_background": "light"
     },
     "output_type": "display_data"
    }
   ],
   "source": [
    "print(pi)\n",
    "\n",
    "plt.figure(figsize = (10,8))\n",
    "ax = sb.heatmap(sigma[1], cmap='gray')\n",
    "bottom, top = ax.get_ylim()\n",
    "ax.set_ylim(bottom + 0.5, top - 0.5)"
   ]
  },
  {
   "cell_type": "code",
   "execution_count": 255,
   "metadata": {},
   "outputs": [
    {
     "name": "stdout",
     "output_type": "stream",
     "text": [
      "[[ 5.53824152  2.23821813 -0.05531346  0.35012321]\n",
      " [ 5.60914184 -1.93578361  0.10691178 -0.46401437]]\n",
      "(784, 2)\n"
     ]
    },
    {
     "data": {
      "image/png": "[encoded data removed]",
      "text/plain": [
       "<Figure size 360x360 with 1 Axes>"
      ]
     },
     "metadata": {
      "needs_background": "light"
     },
     "output_type": "display_data"
    },
    {
     "data": {
      "image/png": "[encoded data removed]",
      "text/plain": [
       "<Figure size 360x360 with 1 Axes>"
      ]
     },
     "metadata": {
      "needs_background": "light"
     },
     "output_type": "display_data"
    }
   ],
   "source": [
    "# mapping back to original space\n",
    "\n",
    "e_vals, w = eigs(C, k)\n",
    "e_vals = e_vals.real\n",
    "w = w.real\n",
    "print(mu)\n",
    "\n",
    "eigen_num = np.dot(np.dot(w, np.sqrt(np.diag(e_vals))), mu.T)\n",
    "print(eigen_num.shape)\n",
    "\n",
    "for ii in range(K):\n",
    "    vis = eigen_num[:,ii].reshape(int(math.sqrt(eigen_num.shape[0])), int(math.sqrt(eigen_num.shape[0])))\n",
    "    plt.figure(figsize=(5, 5))\n",
    "    plt.imshow(vis.T, cmap='cubehelix')"
   ]
  },
  {
   "cell_type": "code",
   "execution_count": 318,
   "metadata": {},
   "outputs": [
    {
     "name": "stdout",
     "output_type": "stream",
     "text": [
      "[2 2 2 ... 6 6 6]\n",
      "[2 2 2 ... 6 6 6]\n",
      "[2 2 2 ... 2 6 6]\n",
      "0.06298449612403101\n",
      "0.008350730688935281\n"
     ]
    }
   ],
   "source": [
    "# Calculating misclassification rate using GMM versus k means\n",
    "\n",
    "labels_path = \"./data/label.mat\"\n",
    "\n",
    "labels = sp.io.loadmat(labels_path)\n",
    "labels = labels['trueLabel']\n",
    "#print(labels.shape)\n",
    "labels = labels.reshape(-1)\n",
    "print(labels)\n",
    "\n",
    "predictions = []\n",
    "for pt in range(m):\n",
    "    if tau[pt, 0] >= tau[pt, 1]:\n",
    "        predictions.append(6)\n",
    "    else: \n",
    "        predictions.append(2)\n",
    "        \n",
    "predictions = np.asarray(predictions)\n",
    "print(predictions)\n",
    "\n",
    "# now for k means \n",
    "\n",
    "#kmeans = KMeans(n_clusters=2).fit(X)\n",
    "#predictions_k = kmeans.labels_\n",
    "#predictions_k[predictions_k == 0] = 2\n",
    "#predictions_k[predictions_k == 1] = 6\n",
    "print(predictions_k)\n",
    "\n",
    "miss_2 = 0\n",
    "miss_6 = 0\n",
    "num_2 = 0\n",
    "num_6 = 0\n",
    "\n",
    "for lab, pred in zip(labels, predictions): # toggle using GMM or kmeans (prediction/prediction_k)\n",
    "    if lab == 6: num_6 += 1\n",
    "    if lab == 2: num_2 += 1\n",
    "    \n",
    "    if lab == 6 and pred == 2: \n",
    "        miss_6 += 1\n",
    "    if lab == 2 and pred == 6:\n",
    "        miss_2 += 1\n",
    "    \n",
    "print(miss_2 / num_2)\n",
    "print(miss_6 / num_6)\n"
   ]
  },
  {
   "cell_type": "code",
   "execution_count": 319,
   "metadata": {},
   "outputs": [
    {
     "name": "stdout",
     "output_type": "stream",
     "text": [
      "0.06201550387596899\n",
      "0.08037578288100208\n"
     ]
    }
   ],
   "source": [
    "miss_2 = 0\n",
    "miss_6 = 0\n",
    "num_2 = 0\n",
    "num_6 = 0\n",
    "\n",
    "for lab, pred in zip(labels, predictions_k): # toggle using GMM or kmeans (prediction/prediction_k)\n",
    "    if lab == 6: num_6 += 1\n",
    "    if lab == 2: num_2 += 1\n",
    "    \n",
    "    if lab == 6 and pred == 2: \n",
    "        miss_6 += 1\n",
    "    if lab == 2 and pred == 6:\n",
    "        miss_2 += 1\n",
    "    \n",
    "print(miss_2 / num_2)\n",
    "print(miss_6 / num_6)"
   ]
  },
  {
   "cell_type": "code",
   "execution_count": null,
   "metadata": {},
   "outputs": [],
   "source": []
  }
 ],
 "metadata": {
  "kernelspec": {
   "display_name": "Python 3",
   "language": "python",
   "name": "python3"
  },
  "language_info": {
   "codemirror_mode": {
    "name": "ipython",
    "version": 3
   },
   "file_extension": ".py",
   "mimetype": "text/x-python",
   "name": "python",
   "nbconvert_exporter": "python",
   "pygments_lexer": "ipython3",
   "version": "3.7.4"
  }
 },
 "nbformat": 4,
 "nbformat_minor": 2
}

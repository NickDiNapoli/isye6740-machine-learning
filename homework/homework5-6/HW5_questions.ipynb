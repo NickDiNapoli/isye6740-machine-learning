{
 "cells": [
  {
   "cell_type": "code",
   "execution_count": 19,
   "metadata": {},
   "outputs": [],
   "source": [
    "import math\n",
    "import numpy as np\n",
    "import matplotlib.pyplot as plt\n",
    "import pandas as pd\n",
    "from sklearn.preprocessing import scale\n",
    "from sklearn.linear_model import RidgeCV\n",
    "from sklearn.linear_model import Ridge\n",
    "from sklearn.utils import shuffle\n",
    "from sklearn.model_selection import GridSearchCV\n",
    "from sklearn.model_selection import cross_val_score\n",
    "from sklearn.linear_model import LassoCV\n",
    "from sklearn.linear_model import Lasso\n",
    "from sklearn.linear_model import lasso_path"
   ]
  },
  {
   "cell_type": "code",
   "execution_count": 3,
   "metadata": {},
   "outputs": [
    {
     "name": "stdout",
     "output_type": "stream",
     "text": [
      "0.03296011876395397\n"
     ]
    }
   ],
   "source": [
    "# Question 1 part a\n",
    "\n",
    "N = 16160\n",
    "N11 = 150\n",
    "N01 = 10\n",
    "N10 = 1000\n",
    "N00 = 15000\n",
    "N1p = 150 + 1000\n",
    "Np1 = 150 + 10\n",
    "N0p = 10 + 15000\n",
    "Np0 = 1000 + 15000\n",
    "\n",
    "op1 = (N*N11)/(N1p*Np1)\n",
    "op2 = (N*N01)/(N0p*Np1)\n",
    "op3 = (N*N10)/(N1p*Np0)\n",
    "op4 = (N*N00)/(N0p*Np0)\n",
    "\n",
    "MI_prize = (N11/N)*math.log(op1,2) + (N01/N)*math.log(op2,2) + (N10/N)*math.log(op3,2) + (N00/N)*math.log(op4,2)\n",
    "print(MI_prize)"
   ]
  },
  {
   "cell_type": "code",
   "execution_count": 4,
   "metadata": {},
   "outputs": [
    {
     "name": "stdout",
     "output_type": "stream",
     "text": [
      "0.0007839352232340266\n"
     ]
    }
   ],
   "source": [
    "N = 16160\n",
    "N11 = 155\n",
    "N01 = 5\n",
    "N10 = 14000\n",
    "N00 = 2000\n",
    "N1p = 155 + 14000\n",
    "Np1 = 155 + 5\n",
    "N0p = 5 + 2000\n",
    "Np0 = 14000 + 2000\n",
    "\n",
    "op1 = (N*N11)/(N1p*Np1)\n",
    "op2 = (N*N01)/(N0p*Np1)\n",
    "op3 = (N*N10)/(N1p*Np0)\n",
    "op4 = (N*N00)/(N0p*Np0)\n",
    "\n",
    "MI_hello = (N11/N)*math.log(op1,2) + (N01/N)*math.log(op2,2) + (N10/N)*math.log(op3,2) + (N00/N)*math.log(op4,2)\n",
    "print(MI_hello)"
   ]
  },
  {
   "cell_type": "code",
   "execution_count": 22,
   "metadata": {},
   "outputs": [
    {
     "data": {
      "image/png": "[encoded data removed]",
      "text/plain": [
       "<Figure size 432x288 with 1 Axes>"
      ]
     },
     "metadata": {
      "needs_background": "light"
     },
     "output_type": "display_data"
    }
   ],
   "source": [
    "# Question 1 part b\n",
    "\n",
    "f0 = np.random.normal(0.0, 1.0, 100)\n",
    "f1 = np.random.normal(3.0, 1.0, 100)\n",
    "x = np.concatenate((f0, f1)) \n",
    "\n",
    "cusum = []\n",
    "W_t = 0 \n",
    "for x_t in x:\n",
    "    W_t = max(0, W_t + 3*x_t - 4.5)\n",
    "    cusum.append(W_t)\n",
    "\n",
    "#plt.figure(figsize=(8, 5))\n",
    "plt.plot(cusum)  \n",
    "plt.ylabel('CUSUM statistic')\n",
    "plt.xlabel('Sample')\n",
    "plt.show()"
   ]
  },
  {
   "cell_type": "code",
   "execution_count": 7,
   "metadata": {},
   "outputs": [],
   "source": [
    "# Question 2 part a\n",
    "\n",
    "def generate_data():\n",
    "    df = pd.read_csv(\"./data/RealEstate.csv\")\n",
    "    #display(df)\n",
    "\n",
    "    # preprocess the data by one hot encoding, scaling, and dropping columns\n",
    "    #print(df.Status.unique())\n",
    "    df['ShortSale'] = np.where(df['Status'] == 'Short Sale', 1, 0)\n",
    "    df['ShortSale'] = scale(df.ShortSale.to_numpy())\n",
    "    df['Foreclosure'] = np.where(df['Status'] == 'Foreclosure', 1, 0)\n",
    "    df['Foreclosure'] = scale(df.Foreclosure.to_numpy())\n",
    "    df['Regular'] = np.where(df['Status'] == 'Regular', 1, 0)\n",
    "    df['Regular'] = scale(df.Regular.to_numpy()) \n",
    "    df['Bedrooms'] = scale(df.Bedrooms.to_numpy())\n",
    "    df['Bathrooms'] = scale(df.Bathrooms.to_numpy())\n",
    "    df['Size'] = scale(df.Size.to_numpy())\n",
    "    df['Price/SQ.Ft'] = scale(df['Price/SQ.Ft'].to_numpy())\n",
    "    df = df.drop(columns=['MLS', 'Location', 'Status'])\n",
    "    #display(df)\n",
    "\n",
    "    prices = df.Price.to_numpy()\n",
    "    data = df.copy().drop(['Price'], axis=1).to_numpy()\n",
    "    #print(data.shape)\n",
    "    return data, prices"
   ]
  },
  {
   "cell_type": "code",
   "execution_count": 25,
   "metadata": {
    "scrolled": false
   },
   "outputs": [
    {
     "data": {
      "text/html": [
       "<div>\n",
       "<style scoped>\n",
       "    .dataframe tbody tr th:only-of-type {\n",
       "        vertical-align: middle;\n",
       "    }\n",
       "\n",
       "    .dataframe tbody tr th {\n",
       "        vertical-align: top;\n",
       "    }\n",
       "\n",
       "    .dataframe thead th {\n",
       "        text-align: right;\n",
       "    }\n",
       "</style>\n",
       "<table border=\"1\" class=\"dataframe\">\n",
       "  <thead>\n",
       "    <tr style=\"text-align: right;\">\n",
       "      <th></th>\n",
       "      <th>Price</th>\n",
       "      <th>Bedrooms</th>\n",
       "      <th>Bathrooms</th>\n",
       "      <th>Size</th>\n",
       "      <th>Price/SQ.Ft</th>\n",
       "      <th>Short Sale</th>\n",
       "      <th>Foreclosure</th>\n",
       "      <th>Regular</th>\n",
       "    </tr>\n",
       "  </thead>\n",
       "  <tbody>\n",
       "    <tr>\n",
       "      <td>0</td>\n",
       "      <td>795000.0</td>\n",
       "      <td>-0.166186</td>\n",
       "      <td>0.761236</td>\n",
       "      <td>0.752016</td>\n",
       "      <td>1.062259</td>\n",
       "      <td>1</td>\n",
       "      <td>0</td>\n",
       "      <td>0</td>\n",
       "    </tr>\n",
       "    <tr>\n",
       "      <td>1</td>\n",
       "      <td>399000.0</td>\n",
       "      <td>1.003104</td>\n",
       "      <td>0.761236</td>\n",
       "      <td>1.297769</td>\n",
       "      <td>-0.622053</td>\n",
       "      <td>1</td>\n",
       "      <td>0</td>\n",
       "      <td>0</td>\n",
       "    </tr>\n",
       "    <tr>\n",
       "      <td>2</td>\n",
       "      <td>545000.0</td>\n",
       "      <td>1.003104</td>\n",
       "      <td>0.761236</td>\n",
       "      <td>1.559046</td>\n",
       "      <td>-0.290251</td>\n",
       "      <td>1</td>\n",
       "      <td>0</td>\n",
       "      <td>0</td>\n",
       "    </tr>\n",
       "    <tr>\n",
       "      <td>3</td>\n",
       "      <td>909000.0</td>\n",
       "      <td>1.003104</td>\n",
       "      <td>1.943194</td>\n",
       "      <td>2.179275</td>\n",
       "      <td>0.379526</td>\n",
       "      <td>1</td>\n",
       "      <td>0</td>\n",
       "      <td>0</td>\n",
       "    </tr>\n",
       "    <tr>\n",
       "      <td>4</td>\n",
       "      <td>109900.0</td>\n",
       "      <td>-0.166186</td>\n",
       "      <td>-1.602681</td>\n",
       "      <td>-0.617859</td>\n",
       "      <td>-1.088105</td>\n",
       "      <td>1</td>\n",
       "      <td>0</td>\n",
       "      <td>0</td>\n",
       "    </tr>\n",
       "    <tr>\n",
       "      <td>...</td>\n",
       "      <td>...</td>\n",
       "      <td>...</td>\n",
       "      <td>...</td>\n",
       "      <td>...</td>\n",
       "      <td>...</td>\n",
       "      <td>...</td>\n",
       "      <td>...</td>\n",
       "      <td>...</td>\n",
       "    </tr>\n",
       "    <tr>\n",
       "      <td>776</td>\n",
       "      <td>319900.0</td>\n",
       "      <td>-0.166186</td>\n",
       "      <td>0.761236</td>\n",
       "      <td>-0.183210</td>\n",
       "      <td>-0.120176</td>\n",
       "      <td>0</td>\n",
       "      <td>0</td>\n",
       "      <td>1</td>\n",
       "    </tr>\n",
       "    <tr>\n",
       "      <td>777</td>\n",
       "      <td>495000.0</td>\n",
       "      <td>-0.166186</td>\n",
       "      <td>-0.420723</td>\n",
       "      <td>0.148881</td>\n",
       "      <td>0.439869</td>\n",
       "      <td>0</td>\n",
       "      <td>0</td>\n",
       "      <td>1</td>\n",
       "    </tr>\n",
       "    <tr>\n",
       "      <td>778</td>\n",
       "      <td>372000.0</td>\n",
       "      <td>-0.166186</td>\n",
       "      <td>-0.420723</td>\n",
       "      <td>-0.794893</td>\n",
       "      <td>1.076692</td>\n",
       "      <td>0</td>\n",
       "      <td>1</td>\n",
       "      <td>0</td>\n",
       "    </tr>\n",
       "    <tr>\n",
       "      <td>779</td>\n",
       "      <td>589000.0</td>\n",
       "      <td>-0.166186</td>\n",
       "      <td>-0.420723</td>\n",
       "      <td>0.268531</td>\n",
       "      <td>0.739934</td>\n",
       "      <td>0</td>\n",
       "      <td>0</td>\n",
       "      <td>1</td>\n",
       "    </tr>\n",
       "    <tr>\n",
       "      <td>780</td>\n",
       "      <td>1100000.0</td>\n",
       "      <td>-0.166186</td>\n",
       "      <td>0.761236</td>\n",
       "      <td>0.777656</td>\n",
       "      <td>2.145396</td>\n",
       "      <td>0</td>\n",
       "      <td>0</td>\n",
       "      <td>1</td>\n",
       "    </tr>\n",
       "  </tbody>\n",
       "</table>\n",
       "<p>781 rows × 8 columns</p>\n",
       "</div>"
      ],
      "text/plain": [
       "         Price  Bedrooms  Bathrooms      Size  Price/SQ.Ft  Short Sale  \\\n",
       "0     795000.0 -0.166186   0.761236  0.752016     1.062259           1   \n",
       "1     399000.0  1.003104   0.761236  1.297769    -0.622053           1   \n",
       "2     545000.0  1.003104   0.761236  1.559046    -0.290251           1   \n",
       "3     909000.0  1.003104   1.943194  2.179275     0.379526           1   \n",
       "4     109900.0 -0.166186  -1.602681 -0.617859    -1.088105           1   \n",
       "..         ...       ...        ...       ...          ...         ...   \n",
       "776   319900.0 -0.166186   0.761236 -0.183210    -0.120176           0   \n",
       "777   495000.0 -0.166186  -0.420723  0.148881     0.439869           0   \n",
       "778   372000.0 -0.166186  -0.420723 -0.794893     1.076692           0   \n",
       "779   589000.0 -0.166186  -0.420723  0.268531     0.739934           0   \n",
       "780  1100000.0 -0.166186   0.761236  0.777656     2.145396           0   \n",
       "\n",
       "     Foreclosure  Regular  \n",
       "0              0        0  \n",
       "1              0        0  \n",
       "2              0        0  \n",
       "3              0        0  \n",
       "4              0        0  \n",
       "..           ...      ...  \n",
       "776            0        1  \n",
       "777            0        1  \n",
       "778            1        0  \n",
       "779            0        1  \n",
       "780            0        1  \n",
       "\n",
       "[781 rows x 8 columns]"
      ]
     },
     "metadata": {},
     "output_type": "display_data"
    }
   ],
   "source": [
    "df = pd.read_csv(\"./data/RealEstate.csv\")\n",
    "#display(df)\n",
    "\n",
    "# preprocess the data by one hot encoding, scaling, and dropping columns\n",
    "#print(df.Status.unique())\n",
    "df['Short Sale'] = np.where(df['Status'] == 'Short Sale', 1, 0)\n",
    "df['Foreclosure'] = np.where(df['Status'] == 'Foreclosure', 1, 0)\n",
    "df['Regular'] = np.where(df['Status'] == 'Regular', 1, 0)\n",
    "df['Bedrooms'] = scale(df.Bedrooms.to_numpy())\n",
    "df['Bathrooms'] = scale(df.Bathrooms.to_numpy())\n",
    "df['Size'] = scale(df.Size.to_numpy())\n",
    "df['Price/SQ.Ft'] = scale(df['Price/SQ.Ft'].to_numpy())\n",
    "df = df.drop(columns=['MLS', 'Location', 'Status'])\n",
    "display(df)\n",
    "\n",
    "prices = df.Price.to_numpy()\n",
    "data = df.copy().drop(['Price'], axis=1).to_numpy()\n",
    "#print(data.shape)"
   ]
  },
  {
   "cell_type": "code",
   "execution_count": 32,
   "metadata": {},
   "outputs": [
    {
     "name": "stdout",
     "output_type": "stream",
     "text": [
      "2.200000000000001\n",
      "[ -9130.40044208  13992.16008174 204224.98412591 210717.11538589\n",
      "  -5939.68540822   -780.51196034   9246.76436027]\n"
     ]
    }
   ],
   "source": [
    "data, prices = generate_data()\n",
    "data, prices = shuffle(data, prices, random_state=2)\n",
    "\n",
    "ridge = RidgeCV(alphas = np.arange(1.0, 81.0, .1), cv=5, scoring='neg_mean_squared_error').fit(data, prices)\n",
    "print(ridge.alpha_)\n",
    "print(ridge.coef_)"
   ]
  },
  {
   "cell_type": "code",
   "execution_count": 64,
   "metadata": {},
   "outputs": [
    {
     "name": "stdout",
     "output_type": "stream",
     "text": [
      "{'alpha': 2.200000000000001, 'random_state': 2}\n",
      "16279704420229.168\n"
     ]
    }
   ],
   "source": [
    "data, prices = generate_data()\n",
    "data, prices = shuffle(data, prices, random_state=2)\n",
    "#idx = np.random.permutation(data.shape[0])\n",
    "#data, prices = data[idx], prices[idx]\n",
    "\n",
    "params = {'alpha':np.arange(1., 80., .1), 'random_state':[2]}\n",
    "ridge = Ridge()\n",
    "model = GridSearchCV(ridge, params, cv=5, scoring='neg_mean_squared_error').fit(data, prices)\n",
    "\n",
    "print(model.best_params_)\n",
    "best_model = model.best_estimator_\n",
    "ridge_pred = best_model.predict(data)\n",
    "\n",
    "mse = 0\n",
    "for i, pred in enumerate(ridge_pred):\n",
    "    mse += (prices[i] - pred)**2\n",
    "print(mse)"
   ]
  },
  {
   "cell_type": "code",
   "execution_count": 62,
   "metadata": {},
   "outputs": [
    {
     "name": "stdout",
     "output_type": "stream",
     "text": [
      "16279557605718.582\n"
     ]
    },
    {
     "data": {
      "image/png": "[encoded data removed]",
      "text/plain": [
       "<Figure size 432x288 with 1 Axes>"
      ]
     },
     "metadata": {
      "needs_background": "light"
     },
     "output_type": "display_data"
    }
   ],
   "source": [
    "# Ridge regression\n",
    "\n",
    "data, prices = generate_data()\n",
    "# shuffle and seed data\n",
    "#data, prices = shuffle(data, prices, random_state=2)\n",
    "idx = np.random.permutation(data.shape[0])\n",
    "data, prices = data[idx], prices[idx]\n",
    "mse_list = []\n",
    "cv_scores = []\n",
    "\n",
    "for a in np.arange(1.0, 81.0):\n",
    "    \n",
    "    #ridge = Ridge(alpha = a, random_state=2)\n",
    "    ridge = RidgeCV(alphas = np.asarray(a), scoring='neg_mean_squared_error')#store_cv_values=True)\n",
    "    \n",
    "    #cv_scores.append(np.mean(cross_val_score(ridge, data, prices, cv=5, scoring='neg_mean_squared_error')))\n",
    "    \n",
    "    model = ridge.fit(data, prices)\n",
    "    \n",
    "    ridge_pred = model.predict(data)\n",
    "    \n",
    "    mse = 0\n",
    "    for i, pred in enumerate(ridge_pred):\n",
    "        mse += (prices[i] - pred)**2\n",
    "    mse_list.append(mse)\n",
    "\n",
    "print(mse_list[1])\n",
    "plt.plot(mse_list)\n",
    "plt.xlabel('alpha')\n",
    "plt.ylabel('SSR')\n",
    "plt.show()"
   ]
  },
  {
   "cell_type": "code",
   "execution_count": 67,
   "metadata": {},
   "outputs": [
    {
     "name": "stdout",
     "output_type": "stream",
     "text": [
      "16278852672837.654\n"
     ]
    },
    {
     "data": {
      "image/png": "[encoded data removed]",
      "text/plain": [
       "<Figure size 432x288 with 1 Axes>"
      ]
     },
     "metadata": {
      "needs_background": "light"
     },
     "output_type": "display_data"
    }
   ],
   "source": [
    "# LASSO regression\n",
    "\n",
    "data, prices = generate_data()\n",
    "data, prices = shuffle(data, prices, random_state=3)\n",
    "\n",
    "mse_list = []\n",
    "cv_scores = []\n",
    "\n",
    "for a in np.arange(1., 3000.):\n",
    "    \n",
    "    lasso = LassoCV(alphas = np.asarray([a]), cv=5, random_state=3)\n",
    "    cv_scores.append(np.mean(cross_val_score(lasso, data, prices, cv=5, scoring='neg_mean_squared_error')))\n",
    "    model = lasso.fit(data, prices)\n",
    "\n",
    "    lasso_pred = model.predict(data)\n",
    "    #print(lasso_pred)\n",
    "\n",
    "    mse = 0\n",
    "    for i, pred in enumerate(lasso_pred):\n",
    "        mse += (prices[i] - pred)**2\n",
    "    mse_list.append(mse)\n",
    "\n",
    "    \n",
    "print(mse_list[1])\n",
    "#plt.plot(mse_list)\n",
    "plt.plot(cv_scores)\n",
    "plt.xlabel('alpha')\n",
    "plt.ylabel('-MSE')\n",
    "plt.show()"
   ]
  },
  {
   "cell_type": "code",
   "execution_count": 37,
   "metadata": {},
   "outputs": [
    {
     "name": "stdout",
     "output_type": "stream",
     "text": [
      "514.0\n",
      "[ -7991.71086662  12311.33162246 204891.68554937 211242.3098605\n",
      "  -4595.8644456       0.           9534.70548436]\n"
     ]
    }
   ],
   "source": [
    "data, prices = generate_data()\n",
    "data, prices = shuffle(data, prices, random_state=3)\n",
    "\n",
    "lasso = LassoCV(alphas = np.arange(1., 3000.), cv=5, random_state=3).fit(data, prices)\n",
    "print(lasso.alpha_)\n",
    "print(lasso.coef_)"
   ]
  },
  {
   "cell_type": "code",
   "execution_count": 65,
   "metadata": {},
   "outputs": [
    {
     "name": "stdout",
     "output_type": "stream",
     "text": [
      "{'alpha': 564.0, 'random_state': 3}\n",
      "[ -7854.70842132  12231.61214167 204824.53402867 211237.93639703\n",
      "  -4556.2705568       0.           9522.35367262]\n",
      "16280506288104.256\n"
     ]
    }
   ],
   "source": [
    "data, prices = generate_data()\n",
    "data, prices = shuffle(data, prices, random_state=3)\n",
    "\n",
    "params = {'alpha':np.arange(1., 3000.), 'random_state':[3]}\n",
    "lasso = Lasso()\n",
    "model = GridSearchCV(lasso, params, cv=5, scoring='neg_mean_squared_error').fit(data, prices)\n",
    "\n",
    "print(model.best_params_)\n",
    "#print(model.best_estimator_.alpha_)\n",
    "print(model.best_estimator_.coef_)\n",
    "\n",
    "best_model = model.best_estimator_\n",
    "lasso_pred = best_model.predict(data)\n",
    "\n",
    "mse = 0\n",
    "for i, pred in enumerate(lasso_pred):\n",
    "    mse += (prices[i] - pred)**2\n",
    "print(mse)"
   ]
  },
  {
   "cell_type": "code",
   "execution_count": 71,
   "metadata": {},
   "outputs": [
    {
     "data": {
      "text/plain": [
       "(-0.5756457732460114,\n",
       " 12.088561238166239,\n",
       " -20390.893235912965,\n",
       " 222329.2933269033)"
      ]
     },
     "execution_count": 71,
     "metadata": {},
     "output_type": "execute_result"
    },
    {
     "data": {
      "image/png": "[encoded data removed]",
      "text/plain": [
       "<Figure size 576x360 with 1 Axes>"
      ]
     },
     "metadata": {
      "needs_background": "light"
     },
     "output_type": "display_data"
    }
   ],
   "source": [
    "# plotting solution paths\n",
    "data, prices = generate_data()\n",
    "data, prices = shuffle(data, prices, random_state=3)\n",
    "alphas_lasso, coeffs_lasso, _ = lasso_path(data, prices, alphas=np.arange(1., 100000.))\n",
    "\n",
    "\n",
    "plt.figure(figsize=(8,5))\n",
    "colors = [\"b\", \"g\", \"r\", \"c\", \"m\", \"y\", \"k\"]\n",
    "labels = df.columns[1:]\n",
    "log_alphas_lasso = np.log(alphas_lasso)\n",
    "#neg_log_alphas_lasso = alphas_lasso\n",
    "\n",
    "for coeff, c, label in zip(coeffs_lasso, colors, labels):\n",
    "    #plt.figure()\n",
    "    l1 = plt.plot(log_alphas_lasso, coeff, c=c, label=label)\n",
    "\n",
    "plt.xlabel(\"Log(alpha)\")\n",
    "plt.ylabel(\"coefficients\")\n",
    "plt.title(\"Lasso regression paths\")\n",
    "plt.legend(labels, loc=\"best\")\n",
    "plt.axis(\"tight\")"
   ]
  },
  {
   "cell_type": "code",
   "execution_count": 45,
   "metadata": {},
   "outputs": [
    {
     "name": "stdout",
     "output_type": "stream",
     "text": [
      "0.8660254037844388\n"
     ]
    }
   ],
   "source": [
    "# Question 3 scratch work \n",
    "\n",
    "import math\n",
    "\n",
    "Z1 = 0\n",
    "D1 = [.125, .125, .125, .125, .125, .125, .125, .125] \n",
    "y = [1, 1, -1, -1, 1, 1, -1, -1]\n",
    "h = [1, 1, -1, -1, -1, -1, -1, -1]\n",
    "a = .5*np.log(3)\n",
    "\n",
    "for i in range(8):\n",
    "    Z1 += D1[i]*math.exp(-a*y[i]*h[i])\n",
    "\n",
    "print(Z1) \n",
    "    "
   ]
  },
  {
   "cell_type": "code",
   "execution_count": 47,
   "metadata": {},
   "outputs": [
    {
     "name": "stdout",
     "output_type": "stream",
     "text": [
      "0.745604754395635\n"
     ]
    }
   ],
   "source": [
    "Z2 = 0\n",
    "D2 = [.0833, .0833, .0833, .0833, .25, .25, .0833, .0833] \n",
    "y = [1, 1, -1, -1, 1, 1, -1, -1]\n",
    "h = [-1, -1, -1, -1, 1, 1, -1, -1]\n",
    "a = .7698\n",
    "\n",
    "for i in range(8):\n",
    "    Z2 += D2[i]*math.exp(-a*y[i]*h[i])\n",
    "\n",
    "print(Z2)\n",
    "\n",
    "D3 = []\n",
    "for i in range(8):\n",
    "    D3.append((D2[i]/Z2)*math.exp(-a*y[i]*h[i]))"
   ]
  },
  {
   "cell_type": "code",
   "execution_count": 49,
   "metadata": {},
   "outputs": [
    {
     "data": {
      "text/plain": [
       "[0.24124383565422058,\n",
       " 0.24124383565422058,\n",
       " 0.05173881058570192,\n",
       " 0.05173881058570192,\n",
       " 0.1552785431743755,\n",
       " 0.1552785431743755,\n",
       " 0.05173881058570192,\n",
       " 0.05173881058570192]"
      ]
     },
     "execution_count": 49,
     "metadata": {},
     "output_type": "execute_result"
    }
   ],
   "source": [
    "D3"
   ]
  },
  {
   "cell_type": "code",
   "execution_count": 50,
   "metadata": {},
   "outputs": [
    {
     "name": "stdout",
     "output_type": "stream",
     "text": [
      "0.6091634235470862\n"
     ]
    }
   ],
   "source": [
    "Z3 = 0\n",
    "y = [1, 1, -1, -1, 1, 1, -1, -1]\n",
    "h = [1, 1, -1, -1, 1, 1, 1, 1]\n",
    "a = 1.08\n",
    "\n",
    "for i in range(8):\n",
    "    Z3 += D3[i]*math.exp(-a*y[i]*h[i])\n",
    "\n",
    "print(Z3)"
   ]
  },
  {
   "cell_type": "code",
   "execution_count": 53,
   "metadata": {},
   "outputs": [
    {
     "name": "stdout",
     "output_type": "stream",
     "text": [
      "[1, 1, -1, -1, 1, 1, -1, -1]\n",
      "0.0\n"
     ]
    }
   ],
   "source": [
    "# Part b\n",
    "\n",
    "h1 = [1, 1, -1, -1, -1, -1, -1, -1]\n",
    "h2 = [-1, -1, -1, -1, 1, 1, -1, -1]\n",
    "h3 = [1, 1, -1, -1, 1, 1, 1, 1]\n",
    "\n",
    "pred = []\n",
    "points = [[-1,0], [-.5,.5], [0,1], [0.5,1], [1,0], [1,-1], [0,-1], [0,0]]\n",
    "for i in range(8):\n",
    "    pred.append(int(np.sign(.5493*h1[i] + .7698*h2[i] + 1.08*h3[i]))) \n",
    "\n",
    "miss = 0    \n",
    "for p in pred:\n",
    "    if pred[p] != y[p]: miss+= 1\n",
    "        \n",
    "print(pred)        \n",
    "print(miss/len(pred))"
   ]
  },
  {
   "cell_type": "code",
   "execution_count": null,
   "metadata": {},
   "outputs": [],
   "source": []
  }
 ],
 "metadata": {
  "kernelspec": {
   "display_name": "Python 3",
   "language": "python",
   "name": "python3"
  },
  "language_info": {
   "codemirror_mode": {
    "name": "ipython",
    "version": 3
   },
   "file_extension": ".py",
   "mimetype": "text/x-python",
   "name": "python",
   "nbconvert_exporter": "python",
   "pygments_lexer": "ipython3",
   "version": "3.7.4"
  }
 },
 "nbformat": 4,
 "nbformat_minor": 2
}
